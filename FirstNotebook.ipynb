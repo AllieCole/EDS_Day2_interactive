{
 "cells": [
  {
   "cell_type": "markdown",
   "id": "8375813b",
   "metadata": {},
   "source": [
    "## Introduction to Jupiter Notebooks \n",
    "\n",
    "### Allie Cole\n",
    "\n",
    "#### EDS 212 \n"
   ]
  },
  {
   "cell_type": "code",
   "execution_count": 1,
   "id": "2e74a9ec",
   "metadata": {},
   "outputs": [],
   "source": [
    "teddy = 10 "
   ]
  },
  {
   "cell_type": "code",
   "execution_count": 2,
   "id": "54182ef0",
   "metadata": {},
   "outputs": [
    {
     "data": {
      "text/plain": [
       "10"
      ]
     },
     "execution_count": 2,
     "metadata": {},
     "output_type": "execute_result"
    }
   ],
   "source": [
    "teddy "
   ]
  },
  {
   "cell_type": "code",
   "execution_count": 3,
   "id": "9197672e",
   "metadata": {},
   "outputs": [
    {
     "data": {
      "text/plain": [
       "30"
      ]
     },
     "execution_count": 3,
     "metadata": {},
     "output_type": "execute_result"
    }
   ],
   "source": [
    "teddy + 20"
   ]
  },
  {
   "cell_type": "code",
   "execution_count": 4,
   "id": "1185f988",
   "metadata": {},
   "outputs": [],
   "source": [
    "def my_sum(apples, bananas): #defining a new function with the name my_sum, looking at apples and bananas \n",
    "    fruit_total = apples + (bananas * apples)\n",
    "    print(fruit_total)"
   ]
  },
  {
   "cell_type": "code",
   "execution_count": 5,
   "id": "810128a8",
   "metadata": {},
   "outputs": [
    {
     "name": "stdout",
     "output_type": "stream",
     "text": [
      "266\n"
     ]
    }
   ],
   "source": [
    "my_sum(apples = 14, bananas = 18)"
   ]
  },
  {
   "cell_type": "code",
   "execution_count": null,
   "id": "28f6a6ee",
   "metadata": {},
   "outputs": [],
   "source": []
  }
 ],
 "metadata": {
  "kernelspec": {
   "display_name": "Python 3",
   "language": "python",
   "name": "python3"
  },
  "language_info": {
   "codemirror_mode": {
    "name": "ipython",
    "version": 3
   },
   "file_extension": ".py",
   "mimetype": "text/x-python",
   "name": "python",
   "nbconvert_exporter": "python",
   "pygments_lexer": "ipython3",
   "version": "3.8.8"
  }
 },
 "nbformat": 4,
 "nbformat_minor": 5
}
